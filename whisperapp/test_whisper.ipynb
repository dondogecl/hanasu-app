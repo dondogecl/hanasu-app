{
 "cells": [
  {
   "cell_type": "code",
   "execution_count": 5,
   "id": "75b69a94-2b6e-4d2f-8672-bfaabace86da",
   "metadata": {
    "tags": []
   },
   "outputs": [],
   "source": [
    "import whisper\n",
    "import os\n"
   ]
  },
  {
   "cell_type": "code",
   "execution_count": 6,
   "id": "a9b1339e-3feb-4dbf-9314-3b57ae5afbd8",
   "metadata": {
    "tags": []
   },
   "outputs": [],
   "source": [
    "model = whisper.load_model(\"base\")\n"
   ]
  },
  {
   "cell_type": "code",
   "execution_count": 7,
   "id": "8b85f97a-6cc0-4906-be83-5a89af1745dc",
   "metadata": {
    "tags": []
   },
   "outputs": [
    {
     "name": "stdout",
     "output_type": "stream",
     "text": [
      "['female-greetingswav-14750.mp3', 'oh-no-the-car-exploded-10632.mp3']\n"
     ]
    }
   ],
   "source": [
    "base_folder = \"audio\"\n",
    "audios = os.listdir(base_folder)\n",
    "print(audios)"
   ]
  },
  {
   "cell_type": "code",
   "execution_count": 8,
   "id": "8ecdb393-bb2c-4218-b79c-c6ed2f265566",
   "metadata": {
    "tags": []
   },
   "outputs": [
    {
     "name": "stdout",
     "output_type": "stream",
     "text": [
      " Hello, hello, hey, hey. Oh, hi. Good morning. Good morning. What's up? Hey, how are you? Hey, how are you? Hi, hi, hi. Good morning. What's up? Hey, how are you?\n",
      "\n",
      "\n",
      " Oh no, the car exploded!\n",
      "\n",
      "\n"
     ]
    }
   ],
   "source": [
    "for file in audios:\n",
    "    audio_file = os.path.join(base_folder, file)\n",
    "    result = model.transcribe(audio_file)\n",
    "    print(result[\"text\"])\n",
    "    print(\"\\n\")"
   ]
  },
  {
   "cell_type": "code",
   "execution_count": null,
   "id": "3d583469-909c-4c4c-9652-f2a6dd62d6e7",
   "metadata": {},
   "outputs": [],
   "source": []
  }
 ],
 "metadata": {
  "kernelspec": {
   "display_name": "Python 3 (ipykernel)",
   "language": "python",
   "name": "python3"
  },
  "language_info": {
   "codemirror_mode": {
    "name": "ipython",
    "version": 3
   },
   "file_extension": ".py",
   "mimetype": "text/x-python",
   "name": "python",
   "nbconvert_exporter": "python",
   "pygments_lexer": "ipython3",
   "version": "3.9.6"
  }
 },
 "nbformat": 4,
 "nbformat_minor": 5
}

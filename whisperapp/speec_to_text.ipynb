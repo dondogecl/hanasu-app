{
 "cells": [
  {
   "cell_type": "code",
   "execution_count": 1,
   "id": "2b8d18f7-10d3-4eff-a1a8-a40407243a47",
   "metadata": {
    "tags": []
   },
   "outputs": [],
   "source": [
    "from whisper import load_model\n",
    "\n",
    "class SpeechToText:\n",
    "    def __init__(self):\n",
    "        self.model = load_model('base')\n",
    "\n",
    "    def transcribe(self, audio_file):\n",
    "        result = self.model.transcribe(audio_file)\n",
    "        return result[\"text\"]\n"
   ]
  },
  {
   "cell_type": "code",
   "execution_count": 2,
   "id": "34f7445b-0dde-44dd-abb0-f0c99363ae81",
   "metadata": {
    "tags": []
   },
   "outputs": [],
   "source": [
    "s2t = SpeechToText()"
   ]
  },
  {
   "cell_type": "code",
   "execution_count": 3,
   "id": "408db2ec-13ba-416b-a800-d6dff27f8e01",
   "metadata": {
    "tags": []
   },
   "outputs": [
    {
     "name": "stderr",
     "output_type": "stream",
     "text": [
      "C:\\dev\\centennial_college\\ui-COMP238\\env\\lib\\site-packages\\whisper\\transcribe.py:114: UserWarning: FP16 is not supported on CPU; using FP32 instead\n",
      "  warnings.warn(\"FP16 is not supported on CPU; using FP32 instead\")\n"
     ]
    },
    {
     "data": {
      "text/plain": [
       "\" Hello, hello, hey, hey. Oh, hi. Good morning. Good morning. What's up? Hey, how are you? Hey, how are you? Hi, hi, hi. Good morning. What's up? Hey, how are you?\""
      ]
     },
     "execution_count": 3,
     "metadata": {},
     "output_type": "execute_result"
    }
   ],
   "source": [
    "s2t.transcribe('audio\\\\female-greetingswav-14750.mp3')"
   ]
  },
  {
   "cell_type": "code",
   "execution_count": null,
   "id": "860427f7-746a-45d6-83f5-0aa4a669b3a2",
   "metadata": {},
   "outputs": [],
   "source": []
  }
 ],
 "metadata": {
  "kernelspec": {
   "display_name": "Python 3 (ipykernel)",
   "language": "python",
   "name": "python3"
  },
  "language_info": {
   "codemirror_mode": {
    "name": "ipython",
    "version": 3
   },
   "file_extension": ".py",
   "mimetype": "text/x-python",
   "name": "python",
   "nbconvert_exporter": "python",
   "pygments_lexer": "ipython3",
   "version": "3.9.6"
  }
 },
 "nbformat": 4,
 "nbformat_minor": 5
}

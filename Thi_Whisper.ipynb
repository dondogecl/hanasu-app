{
  "nbformat": 4,
  "nbformat_minor": 0,
  "metadata": {
    "colab": {
      "provenance": [],
      "authorship_tag": "ABX9TyOkPxkThYGnpoLV9QZK1xFT",
      "include_colab_link": true
    },
    "kernelspec": {
      "name": "python3",
      "display_name": "Python 3"
    },
    "language_info": {
      "name": "python"
    }
  },
  "cells": [
    {
      "cell_type": "markdown",
      "metadata": {
        "id": "view-in-github",
        "colab_type": "text"
      },
      "source": [
        "<a href=\"https://colab.research.google.com/github/nguyenquethi/OneCommunity/blob/main/Thi_Whisper.ipynb\" target=\"_parent\"><img src=\"https://colab.research.google.com/assets/colab-badge.svg\" alt=\"Open In Colab\"/></a>"
      ]
    },
    {
      "cell_type": "code",
      "execution_count": 1,
      "metadata": {
        "colab": {
          "base_uri": "https://localhost:8080/"
        },
        "id": "a-HX2kCxyY3j",
        "outputId": "a476506b-b3ba-4c4c-f0ee-609c7e15591e"
      },
      "outputs": [
        {
          "output_type": "stream",
          "name": "stdout",
          "text": [
            "Drive already mounted at /content/drive/; to attempt to forcibly remount, call drive.mount(\"/content/drive/\", force_remount=True).\n"
          ]
        }
      ],
      "source": [
        "from google.colab import drive\n",
        "drive.mount('/content/drive/')"
      ]
    },
    {
      "cell_type": "code",
      "source": [
        "# !pip install whisper\n",
        "!pip install -U openai-whisper"
      ],
      "metadata": {
        "id": "h9VpLazly9kI"
      },
      "execution_count": null,
      "outputs": []
    },
    {
      "cell_type": "code",
      "source": [
        "import whisper\n",
        "\n",
        "model = whisper.load_model(\"base\")"
      ],
      "metadata": {
        "colab": {
          "base_uri": "https://localhost:8080/"
        },
        "id": "kOUtBypmzga_",
        "outputId": "d1f7a97f-c0bb-4ef8-81b4-a778b2b7d173"
      },
      "execution_count": 4,
      "outputs": [
        {
          "output_type": "stream",
          "name": "stderr",
          "text": [
            "100%|████████████████████████████████████████| 139M/139M [00:01<00:00, 107MiB/s]\n"
          ]
        }
      ]
    },
    {
      "cell_type": "code",
      "source": [
        "rootPath = \"/content/drive/MyDrive/Thi's stupid stuff for Ui class/\"\n",
        "links = [\"[x-m]__CAO_BIỀN_TRUNG_QUỐC_TRẤN_YỂM_THÀNH_ĐẠI_LA_&_THANH_HÓA____hồ_sơ_x (mp3cut.net).mp3\",\n",
        "        \"Heap_Sort_Algorithm___Thuật_toán_sắp_xếp_vun_đống_@@ (mp3cut.net).mp3\",\n",
        "        \"Easy_Vietnamese_1_-_What's_typical_Vietnamese_ (mp3cut.net).mp3\"]\n",
        "        "
      ],
      "metadata": {
        "id": "vP-NPD6F1_59"
      },
      "execution_count": 19,
      "outputs": []
    },
    {
      "cell_type": "code",
      "source": [
        "links[0].replace(\".mp3\",\".txt\")"
      ],
      "metadata": {
        "colab": {
          "base_uri": "https://localhost:8080/",
          "height": 35
        },
        "id": "hLAkPgiW38MC",
        "outputId": "2299b60c-4b5a-4182-d502-9365e0ea9eb0"
      },
      "execution_count": 21,
      "outputs": [
        {
          "output_type": "execute_result",
          "data": {
            "text/plain": [
              "'[x-m]__CAO_BIỀN_TRUNG_QUỐC_TRẤN_YỂM_THÀNH_ĐẠI_LA_&_THANH_HÓA____hồ_sơ_x (mp3cut.net).txt'"
            ],
            "application/vnd.google.colaboratory.intrinsic+json": {
              "type": "string"
            }
          },
          "metadata": {},
          "execution_count": 21
        }
      ]
    },
    {
      "cell_type": "code",
      "source": [
        "for link in links:\n",
        "  result = model.transcribe(rootPath + link)\n",
        "  with open(rootPath + link.replace(\".mp3\",\".txt\"), 'w') as f:\n",
        "    f.write(result[\"text\"])\n"
      ],
      "metadata": {
        "colab": {
          "base_uri": "https://localhost:8080/"
        },
        "id": "KwjzS8VMztgH",
        "outputId": "e6529512-8b01-4570-b754-493dcd066632"
      },
      "execution_count": 23,
      "outputs": [
        {
          "output_type": "stream",
          "name": "stderr",
          "text": [
            "/usr/local/lib/python3.9/dist-packages/whisper/transcribe.py:114: UserWarning: FP16 is not supported on CPU; using FP32 instead\n",
            "  warnings.warn(\"FP16 is not supported on CPU; using FP32 instead\")\n",
            "/usr/local/lib/python3.9/dist-packages/whisper/transcribe.py:114: UserWarning: FP16 is not supported on CPU; using FP32 instead\n",
            "  warnings.warn(\"FP16 is not supported on CPU; using FP32 instead\")\n",
            "/usr/local/lib/python3.9/dist-packages/whisper/transcribe.py:114: UserWarning: FP16 is not supported on CPU; using FP32 instead\n",
            "  warnings.warn(\"FP16 is not supported on CPU; using FP32 instead\")\n"
          ]
        }
      ]
    },
    {
      "cell_type": "code",
      "source": [
        "result"
      ],
      "metadata": {
        "id": "4CqL2o8w1Npi"
      },
      "execution_count": null,
      "outputs": []
    }
  ]
}